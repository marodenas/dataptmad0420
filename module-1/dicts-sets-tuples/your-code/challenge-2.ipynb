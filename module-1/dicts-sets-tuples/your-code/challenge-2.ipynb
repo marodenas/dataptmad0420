{
 "cells": [
  {
   "cell_type": "code",
   "execution_count": 7,
   "metadata": {},
   "outputs": [],
   "source": [
    "import random"
   ]
  },
  {
   "cell_type": "markdown",
   "metadata": {},
   "source": [
    "## Challenge 2: Sets\n",
    "\n",
    "There are a lot to learn about Python Sets and the information presented in the lesson is limited due to its length. To learn Python Sets in depth you are strongly encouraged to review the W3Schools tutorial on [Python Sets Examples and Methods](https://www.w3schools.com/python/python_sets.asp) before you work on this lab. Some difficult questions in this lab have their solutions in the W3Schools tutorial.\n",
    "\n",
    "#### First, import the Python `random` library."
   ]
  },
  {
   "cell_type": "markdown",
   "metadata": {},
   "source": [
    "#### In the cell below, create a list named `sample_list_1` with 80 random values. \n",
    "\n",
    "Requirements:\n",
    "\n",
    "* Each value is an integer falling between 0 and 100.\n",
    "* Each value in the list is unique.\n",
    "\n",
    "Print `sample_list_1` to review its values\n",
    "\n",
    "*Hint: use `random.sample` ([reference](https://docs.python.org/3/library/random.html#random.sample)).*"
   ]
  },
  {
   "cell_type": "code",
   "execution_count": 8,
   "metadata": {},
   "outputs": [
    {
     "name": "stdout",
     "output_type": "stream",
     "text": [
      "[16, 20, 58, 75, 81, 9, 7, 17, 72, 56, 47, 1, 33, 2, 28, 43, 25, 91, 78, 34, 8, 11, 99, 27, 22, 66, 79, 32, 74, 13, 71, 93, 55, 76, 39, 65, 94, 49, 45, 67, 88, 48, 4, 54, 15, 60, 70, 37, 12, 95, 87, 98, 84, 46, 40, 51, 100, 38, 36, 77, 24, 82, 69, 30, 64, 85, 73, 21, 44, 97, 6, 23, 5, 35, 26, 29, 53, 57, 80, 62]\n"
     ]
    }
   ],
   "source": [
    "# Your code here\n",
    "samples_list_1=random.sample(range(101),80)\n",
    "print(samples_list_1)"
   ]
  },
  {
   "cell_type": "markdown",
   "metadata": {},
   "source": [
    "#### Convert `sample_list_1` to a set called `set1`. Print the length of the set. Is its length still 80?"
   ]
  },
  {
   "cell_type": "code",
   "execution_count": 9,
   "metadata": {},
   "outputs": [
    {
     "data": {
      "text/plain": [
       "80"
      ]
     },
     "execution_count": 9,
     "metadata": {},
     "output_type": "execute_result"
    }
   ],
   "source": [
    "# Your code here\n",
    "set1 = set(samples_list_1)\n",
    "len(set1)\n"
   ]
  },
  {
   "cell_type": "markdown",
   "metadata": {},
   "source": [
    "#### Create another list named `sample_list_2` with 80 random values.\n",
    "\n",
    "Requirements:\n",
    "\n",
    "* Each value is an integer falling between 0 and 100.\n",
    "* The values in the list don't have to be unique.\n",
    "\n",
    "*Hint: Use a FOR loop.*"
   ]
  },
  {
   "cell_type": "code",
   "execution_count": 12,
   "metadata": {},
   "outputs": [
    {
     "name": "stdout",
     "output_type": "stream",
     "text": [
      "[16, 27, 90, 98, 89, 81, 84, 46, 72, 67, 92, 9, 61, 30, 37, 73, 17, 83, 35, 85, 26, 86, 53, 41, 91, 1, 8, 7, 48, 79, 52, 54, 10, 39, 71, 28, 15, 66, 43, 18, 45, 6, 5, 64, 65, 33, 14, 77, 32, 3, 44, 56, 59, 40, 13, 25, 50, 80, 99, 49, 58, 23, 96, 19, 51, 94, 31, 2, 75, 76, 63, 21, 88, 68, 97, 62, 74, 24, 11, 93]\n"
     ]
    }
   ],
   "source": [
    "# Your code here\n",
    "sample_list_2 = [x for x in random.sample(range(101),80)]\n",
    "print(sample_list_2)\n"
   ]
  },
  {
   "cell_type": "markdown",
   "metadata": {},
   "source": [
    "#### Convert `sample_list_2` to a set called `set2`. Print the length of the set. Is its length still 80?"
   ]
  },
  {
   "cell_type": "code",
   "execution_count": 13,
   "metadata": {},
   "outputs": [
    {
     "name": "stdout",
     "output_type": "stream",
     "text": [
      "80\n"
     ]
    }
   ],
   "source": [
    "# Your code here\n",
    "set2 = set(sample_list_2)\n",
    "print(len(set2))\n"
   ]
  },
  {
   "cell_type": "markdown",
   "metadata": {},
   "source": [
    "#### Identify the elements present in `set1` but not in `set2`. Assign the elements to a new set named `set3`."
   ]
  },
  {
   "cell_type": "code",
   "execution_count": 14,
   "metadata": {},
   "outputs": [
    {
     "name": "stdout",
     "output_type": "stream",
     "text": [
      "{4, 12, 20, 22, 29, 34, 36, 38, 47, 55, 57, 60, 69, 70, 78, 82, 87, 95, 100}\n"
     ]
    }
   ],
   "source": [
    "# Your code here\n",
    "set3 = set([x for x in set1 if x not in  set2])\n",
    "print(set3)"
   ]
  },
  {
   "cell_type": "markdown",
   "metadata": {},
   "source": [
    "#### Identify the elements present in `set2` but not in `set1`. Assign the elements to a new set named `set4`."
   ]
  },
  {
   "cell_type": "code",
   "execution_count": 15,
   "metadata": {},
   "outputs": [
    {
     "name": "stdout",
     "output_type": "stream",
     "text": [
      "{3, 10, 14, 18, 19, 31, 41, 50, 52, 59, 61, 63, 68, 83, 86, 89, 90, 92, 96}\n"
     ]
    }
   ],
   "source": [
    "# Your code here\n",
    "set4 = set([x for x in set2 if x not in set1])\n",
    "print(set4)"
   ]
  },
  {
   "cell_type": "markdown",
   "metadata": {},
   "source": [
    "#### Now Identify the elements shared between `set1` and `set2`. Assign the elements to a new set named `set5`."
   ]
  },
  {
   "cell_type": "code",
   "execution_count": 16,
   "metadata": {},
   "outputs": [
    {
     "name": "stdout",
     "output_type": "stream",
     "text": [
      "{1, 2, 5, 6, 7, 8, 9, 11, 13, 15, 16, 17, 21, 23, 24, 25, 26, 27, 28, 30, 32, 33, 35, 37, 39, 40, 43, 44, 45, 46, 48, 49, 51, 53, 54, 56, 58, 62, 64, 65, 66, 67, 71, 72, 73, 74, 75, 76, 77, 79, 80, 81, 84, 85, 88, 91, 93, 94, 97, 98, 99}\n"
     ]
    }
   ],
   "source": [
    "# Your code here\n",
    "set5 = set([x for x in set1 if x in set2])\n",
    "print(set5)"
   ]
  },
  {
   "cell_type": "markdown",
   "metadata": {},
   "source": [
    "#### What is the relationship among the following values:\n",
    "\n",
    "* len(set1)\n",
    "* len(set2)\n",
    "* len(set3)\n",
    "* len(set4)\n",
    "* len(set5)\n",
    "\n",
    "Use a math formular to represent that relationship. Test your formular with Python code."
   ]
  },
  {
   "cell_type": "code",
   "execution_count": 29,
   "metadata": {},
   "outputs": [
    {
     "name": "stdout",
     "output_type": "stream",
     "text": [
      "Set 1 is equal to set3 union set5\n",
      "Set 2 is equal to set4 union set5\n",
      "Set 3 is equal to set1 minus set5\n",
      "Set 4 is equal to set2 minus set5\n",
      "Set 5 is equal to set1 intersection set2\n"
     ]
    }
   ],
   "source": [
    "# Your code here\n",
    "\n",
    "# set1 = set3 U set5\n",
    "print('Set 1 is equal to set3 union set5') if (len(set3.union(set5)) == len(set1)) else print('Set 1 is not equal to set3 union set5')\n",
    "\n",
    "# set2 = set4 U set5\n",
    "print('Set 2 is equal to set4 union set5') if (len(set4.union(set5))) == len(set2) else print('Set 2 is not equal to set4 union set5')\n",
    "\n",
    "# set3 = set1 - set5 \n",
    "print('Set 3 is equal to set1 minus set5') if (len(set1) - len(set5)) == len(set3) else print('Set 3 is not equal to set1 minus set5')\n",
    "\n",
    "# set4 = set2 - set5\n",
    "print('Set 4 is equal to set2 minus set5') if (len(set2) - len(set5)) == len(set4) else print('Set 4 is not equal to set2 minus set5')\n",
    "\n",
    "# set5 = set1 ∩ set 2 \n",
    "\n",
    "print('Set 5 is equal to set1 intersection set2') if (len(set1.intersection(set2)) == len(set5)) else print('Set 5 is not equal to set1 intersection set2')\n",
    "\n"
   ]
  },
  {
   "cell_type": "markdown",
   "metadata": {},
   "source": [
    "#### Create an empty set called `set6`."
   ]
  },
  {
   "cell_type": "code",
   "execution_count": 30,
   "metadata": {},
   "outputs": [
    {
     "name": "stdout",
     "output_type": "stream",
     "text": [
      "set()\n"
     ]
    }
   ],
   "source": [
    "# Your code here\n",
    "set6=set()\n",
    "print(set6)"
   ]
  },
  {
   "cell_type": "markdown",
   "metadata": {},
   "source": [
    "#### Add `set3` and `set5` to `set6` using the Python Set `update` method."
   ]
  },
  {
   "cell_type": "code",
   "execution_count": 32,
   "metadata": {},
   "outputs": [
    {
     "name": "stdout",
     "output_type": "stream",
     "text": [
      "{1, 2, 4, 5, 6, 7, 8, 9, 11, 12, 13, 15, 16, 17, 20, 21, 22, 23, 24, 25, 26, 27, 28, 29, 30, 32, 33, 34, 35, 36, 37, 38, 39, 40, 43, 44, 45, 46, 47, 48, 49, 51, 53, 54, 55, 56, 57, 58, 60, 62, 64, 65, 66, 67, 69, 70, 71, 72, 73, 74, 75, 76, 77, 78, 79, 80, 81, 82, 84, 85, 87, 88, 91, 93, 94, 95, 97, 98, 99, 100}\n"
     ]
    }
   ],
   "source": [
    "# Your code here\n",
    "set6.update(set3)\n",
    "set6.update(set5)\n",
    "print(set6)\n"
   ]
  },
  {
   "cell_type": "markdown",
   "metadata": {},
   "source": [
    "#### Check if `set1` and `set6` are equal."
   ]
  },
  {
   "cell_type": "code",
   "execution_count": 33,
   "metadata": {},
   "outputs": [
    {
     "name": "stdout",
     "output_type": "stream",
     "text": [
      "Set1 and set 6 are equals\n"
     ]
    }
   ],
   "source": [
    "# Your code here\n",
    "print('Set1 and set 6 are equals') if (set1==set6) else print('Set1 and set 6 are differents')"
   ]
  },
  {
   "cell_type": "markdown",
   "metadata": {},
   "source": [
    "#### Check if `set1` contains `set2` using the Python Set `issubset` method. Then check if `set1` contains `set3`.*"
   ]
  },
  {
   "cell_type": "code",
   "execution_count": 37,
   "metadata": {},
   "outputs": [
    {
     "name": "stdout",
     "output_type": "stream",
     "text": [
      "Set1 contains Set2: False\n",
      "Set 1 contains Set3 :False\n"
     ]
    }
   ],
   "source": [
    "# Your code here\n",
    "z = set1.issubset(set3)\n",
    "print(f'Set1 contains Set2: {z}')\n",
    "\n",
    "y = set1.issubset(set3)\n",
    "print(f'Set 1 contains Set3 :{y}')"
   ]
  },
  {
   "cell_type": "markdown",
   "metadata": {},
   "source": [
    "#### Using the Python Set `union` method, aggregate `set3`, `set4`, and `set5`. Then aggregate `set1` and `set2`. \n",
    "\n",
    "#### Check if the aggregated values are equal."
   ]
  },
  {
   "cell_type": "code",
   "execution_count": 43,
   "metadata": {},
   "outputs": [
    {
     "name": "stdout",
     "output_type": "stream",
     "text": [
      "{1, 2, 3, 4, 5, 6, 7, 8, 9, 10, 11, 12, 13, 14, 15, 16, 17, 18, 19, 20, 21, 22, 23, 24, 25, 26, 27, 28, 29, 30, 31, 32, 33, 34, 35, 36, 37, 38, 39, 40, 41, 43, 44, 45, 46, 47, 48, 49, 50, 51, 52, 53, 54, 55, 56, 57, 58, 59, 60, 61, 62, 63, 64, 65, 66, 67, 68, 69, 70, 71, 72, 73, 74, 75, 76, 77, 78, 79, 80, 81, 82, 83, 84, 85, 86, 87, 88, 89, 90, 91, 92, 93, 94, 95, 96, 97, 98, 99, 100}\n",
      "{1, 2, 3, 4, 5, 6, 7, 8, 9, 10, 11, 12, 13, 14, 15, 16, 17, 18, 19, 20, 21, 22, 23, 24, 25, 26, 27, 28, 29, 30, 31, 32, 33, 34, 35, 36, 37, 38, 39, 40, 41, 43, 44, 45, 46, 47, 48, 49, 50, 51, 52, 53, 54, 55, 56, 57, 58, 59, 60, 61, 62, 63, 64, 65, 66, 67, 68, 69, 70, 71, 72, 73, 74, 75, 76, 77, 78, 79, 80, 81, 82, 83, 84, 85, 86, 87, 88, 89, 90, 91, 92, 93, 94, 95, 96, 97, 98, 99, 100}\n",
      "The aggregated values are equals\n"
     ]
    }
   ],
   "source": [
    "# Your code here\n",
    "union_s3s4s5 = set3.union(set4,set5)\n",
    "print(union_s3s4s5)\n",
    "\n",
    "union_s1s2s3s4s5 = union_s3s4s5.union(set1,set2)\n",
    "print(union_s1s2s3s4s5)\n",
    "\n",
    "#check if they are equals\n",
    "print('The aggregated values are equals') if (union_s3s4s5 == union_s1s2s3s4s5) else print ('They are diff.')"
   ]
  },
  {
   "cell_type": "markdown",
   "metadata": {},
   "source": [
    "#### Using the `pop` method, remove the first element from `set1`."
   ]
  },
  {
   "cell_type": "code",
   "execution_count": null,
   "metadata": {},
   "outputs": [],
   "source": [
    "# Your code here\n"
   ]
  },
  {
   "cell_type": "markdown",
   "metadata": {},
   "source": [
    "#### Remove every element in the following list from `set1` if they are present in the set. Print the remaining elements.\n",
    "\n",
    "```\n",
    "list_to_remove = [1, 9, 11, 19, 21, 29, 31, 39, 41, 49, 51, 59, 61, 69, 71, 79, 81, 89, 91, 99]\n",
    "```"
   ]
  },
  {
   "cell_type": "code",
   "execution_count": null,
   "metadata": {},
   "outputs": [],
   "source": [
    "# Your code here\n"
   ]
  }
 ],
 "metadata": {
  "kernelspec": {
   "display_name": "Python 3",
   "language": "python",
   "name": "python3"
  },
  "language_info": {
   "codemirror_mode": {
    "name": "ipython",
    "version": 3
   },
   "file_extension": ".py",
   "mimetype": "text/x-python",
   "name": "python",
   "nbconvert_exporter": "python",
   "pygments_lexer": "ipython3",
   "version": "3.7.7"
  }
 },
 "nbformat": 4,
 "nbformat_minor": 2
}
