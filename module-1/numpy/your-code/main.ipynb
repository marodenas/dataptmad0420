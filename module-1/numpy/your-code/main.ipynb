{
 "cells": [
  {
   "cell_type": "markdown",
   "metadata": {},
   "source": [
    "# Introduction to NumPy\n",
    "\n",
    "\n",
    "#### 1. Import NumPy under the name np."
   ]
  },
  {
   "cell_type": "code",
   "execution_count": 1,
   "metadata": {},
   "outputs": [],
   "source": [
    "# your code here\n",
    "import numpy as np"
   ]
  },
  {
   "cell_type": "markdown",
   "metadata": {},
   "source": [
    "#### 2. Print your NumPy version."
   ]
  },
  {
   "cell_type": "code",
   "execution_count": 2,
   "metadata": {},
   "outputs": [
    {
     "data": {
      "text/plain": [
       "'1.18.1'"
      ]
     },
     "execution_count": 2,
     "metadata": {},
     "output_type": "execute_result"
    }
   ],
   "source": [
    "# your code here\n",
    "np.version.version"
   ]
  },
  {
   "cell_type": "markdown",
   "metadata": {},
   "source": [
    "#### 3. Generate a 2x3x5 3-dimensional array with random values. Assign the array to variable *a*.\n",
    "**Challenge**: there are at least three easy ways that use numpy to generate random arrays. How many ways can you find?"
   ]
  },
  {
   "cell_type": "code",
   "execution_count": 3,
   "metadata": {},
   "outputs": [
    {
     "data": {
      "text/plain": [
       "array([[[0.2950792 , 0.20069242, 0.80670576, 0.79165687, 0.49214055],\n",
       "        [0.22478718, 0.15019248, 0.55666361, 0.38919618, 0.64131195],\n",
       "        [0.8813294 , 0.12209126, 0.93033666, 0.27352774, 0.0235622 ]],\n",
       "\n",
       "       [[0.5976319 , 0.3841011 , 0.91296569, 0.41160471, 0.60079363],\n",
       "        [0.58732521, 0.29320319, 0.86465693, 0.08086109, 0.46175518],\n",
       "        [0.10696335, 0.81988277, 0.09096855, 0.44855579, 0.70635173]]])"
      ]
     },
     "execution_count": 3,
     "metadata": {},
     "output_type": "execute_result"
    }
   ],
   "source": [
    "# Method 1\n",
    "a = np.random.random((2,3,5))\n",
    "a"
   ]
  },
  {
   "cell_type": "code",
   "execution_count": 4,
   "metadata": {},
   "outputs": [
    {
     "data": {
      "text/plain": [
       "array([[[129, 947,  33, 236, 819],\n",
       "        [813, 696, 411, 810, 626],\n",
       "        [512, 751, 783, 864,  29]],\n",
       "\n",
       "       [[566, 441, 950, 803, 717],\n",
       "        [896, 789, 401, 939, 695],\n",
       "        [ 88,  20, 920, 841, 510]]])"
      ]
     },
     "execution_count": 4,
     "metadata": {},
     "output_type": "execute_result"
    }
   ],
   "source": [
    "# Method 2\n",
    "a = np.random.randint(1000, size=(2,3,5))\n",
    "a"
   ]
  },
  {
   "cell_type": "code",
   "execution_count": 5,
   "metadata": {},
   "outputs": [
    {
     "data": {
      "text/plain": [
       "array([[[0.96446324, 0.19836034, 0.87924349, 0.85809597, 0.87618198],\n",
       "        [0.40271629, 0.16987447, 0.24852037, 0.26929028, 0.78318367],\n",
       "        [0.07205774, 0.5480108 , 0.03991835, 0.40859816, 0.53261905]],\n",
       "\n",
       "       [[0.64174815, 0.4187394 , 0.04499273, 0.2560781 , 0.9598201 ],\n",
       "        [0.45465946, 0.55219183, 0.71096617, 0.24364299, 0.7188212 ],\n",
       "        [0.43131245, 0.97417297, 0.59547435, 0.44097674, 0.77346576]]])"
      ]
     },
     "execution_count": 5,
     "metadata": {},
     "output_type": "execute_result"
    }
   ],
   "source": [
    "# Method 3\n",
    "a = np.random.rand(2,3,5)\n",
    "a"
   ]
  },
  {
   "cell_type": "markdown",
   "metadata": {},
   "source": [
    "#### 4. Print *a*.\n"
   ]
  },
  {
   "cell_type": "code",
   "execution_count": 6,
   "metadata": {},
   "outputs": [
    {
     "name": "stdout",
     "output_type": "stream",
     "text": [
      "[[[0.96446324 0.19836034 0.87924349 0.85809597 0.87618198]\n",
      "  [0.40271629 0.16987447 0.24852037 0.26929028 0.78318367]\n",
      "  [0.07205774 0.5480108  0.03991835 0.40859816 0.53261905]]\n",
      "\n",
      " [[0.64174815 0.4187394  0.04499273 0.2560781  0.9598201 ]\n",
      "  [0.45465946 0.55219183 0.71096617 0.24364299 0.7188212 ]\n",
      "  [0.43131245 0.97417297 0.59547435 0.44097674 0.77346576]]]\n"
     ]
    }
   ],
   "source": [
    "# your code here\n",
    "print(a)"
   ]
  },
  {
   "cell_type": "markdown",
   "metadata": {},
   "source": [
    "#### 5. Create a 5x2x3 3-dimensional array with all values equaling 1. Assign the array to variable *b*."
   ]
  },
  {
   "cell_type": "code",
   "execution_count": 7,
   "metadata": {},
   "outputs": [],
   "source": [
    "# your code here\n",
    "b = np.ones((5,2,3))"
   ]
  },
  {
   "cell_type": "markdown",
   "metadata": {},
   "source": [
    "#### 6. Print *b*.\n"
   ]
  },
  {
   "cell_type": "code",
   "execution_count": 8,
   "metadata": {},
   "outputs": [
    {
     "name": "stdout",
     "output_type": "stream",
     "text": [
      "[[[1. 1. 1.]\n",
      "  [1. 1. 1.]]\n",
      "\n",
      " [[1. 1. 1.]\n",
      "  [1. 1. 1.]]\n",
      "\n",
      " [[1. 1. 1.]\n",
      "  [1. 1. 1.]]\n",
      "\n",
      " [[1. 1. 1.]\n",
      "  [1. 1. 1.]]\n",
      "\n",
      " [[1. 1. 1.]\n",
      "  [1. 1. 1.]]]\n"
     ]
    }
   ],
   "source": [
    "# your code here\n",
    "print(b)"
   ]
  },
  {
   "cell_type": "markdown",
   "metadata": {},
   "source": [
    "#### 7. Do *a* and *b* have the same size? How do you prove that in Python code?"
   ]
  },
  {
   "cell_type": "code",
   "execution_count": 9,
   "metadata": {},
   "outputs": [
    {
     "data": {
      "text/plain": [
       "True"
      ]
     },
     "execution_count": 9,
     "metadata": {},
     "output_type": "execute_result"
    }
   ],
   "source": [
    "# your code here\n",
    "\n",
    "True if b.size == a.size else False"
   ]
  },
  {
   "cell_type": "markdown",
   "metadata": {},
   "source": [
    "#### 8. Are you able to add *a* and *b*? Why or why not?\n"
   ]
  },
  {
   "cell_type": "code",
   "execution_count": 10,
   "metadata": {},
   "outputs": [
    {
     "ename": "ValueError",
     "evalue": "operands could not be broadcast together with shapes (2,3,5) (5,2,3) ",
     "output_type": "error",
     "traceback": [
      "\u001b[0;31m---------------------------------------------------------------------------\u001b[0m",
      "\u001b[0;31mValueError\u001b[0m                                Traceback (most recent call last)",
      "\u001b[0;32m<ipython-input-10-db885ef65834>\u001b[0m in \u001b[0;36m<module>\u001b[0;34m\u001b[0m\n\u001b[1;32m      1\u001b[0m \u001b[0;31m# your answer here\u001b[0m\u001b[0;34m\u001b[0m\u001b[0;34m\u001b[0m\u001b[0;34m\u001b[0m\u001b[0m\n\u001b[1;32m      2\u001b[0m \u001b[0;31m#we are not able to add a and b because they have different shapes.\u001b[0m\u001b[0;34m\u001b[0m\u001b[0;34m\u001b[0m\u001b[0;34m\u001b[0m\u001b[0m\n\u001b[0;32m----> 3\u001b[0;31m \u001b[0ma\u001b[0m\u001b[0;34m+\u001b[0m\u001b[0mb\u001b[0m\u001b[0;34m\u001b[0m\u001b[0;34m\u001b[0m\u001b[0m\n\u001b[0m",
      "\u001b[0;31mValueError\u001b[0m: operands could not be broadcast together with shapes (2,3,5) (5,2,3) "
     ]
    }
   ],
   "source": [
    "# your answer here\n",
    "#we are not able to add a and b because they have different shapes.\n",
    "a+b"
   ]
  },
  {
   "cell_type": "markdown",
   "metadata": {},
   "source": [
    "#### 9. Transpose *b* so that it has the same structure of *a* (i.e. become a 2x3x5 array). Assign the transposed array to variable *c*."
   ]
  },
  {
   "cell_type": "code",
   "execution_count": 11,
   "metadata": {},
   "outputs": [
    {
     "name": "stdout",
     "output_type": "stream",
     "text": [
      "[[[1. 1. 1. 1. 1.]\n",
      "  [1. 1. 1. 1. 1.]\n",
      "  [1. 1. 1. 1. 1.]]\n",
      "\n",
      " [[1. 1. 1. 1. 1.]\n",
      "  [1. 1. 1. 1. 1.]\n",
      "  [1. 1. 1. 1. 1.]]]\n"
     ]
    }
   ],
   "source": [
    "# your code here\n",
    "\n",
    "c = b.transpose(1,2,0)\n",
    "print(c)"
   ]
  },
  {
   "cell_type": "markdown",
   "metadata": {},
   "source": [
    "#### 10. Try to add *a* and *c*. Now it should work. Assign the sum to variable *d*. But why does it work now?"
   ]
  },
  {
   "cell_type": "code",
   "execution_count": 12,
   "metadata": {},
   "outputs": [
    {
     "name": "stdout",
     "output_type": "stream",
     "text": [
      "(2, 3, 5)\n",
      "(2, 3, 5)\n",
      "[[[1.96446324 1.19836034 1.87924349 1.85809597 1.87618198]\n",
      "  [1.40271629 1.16987447 1.24852037 1.26929028 1.78318367]\n",
      "  [1.07205774 1.5480108  1.03991835 1.40859816 1.53261905]]\n",
      "\n",
      " [[1.64174815 1.4187394  1.04499273 1.2560781  1.9598201 ]\n",
      "  [1.45465946 1.55219183 1.71096617 1.24364299 1.7188212 ]\n",
      "  [1.43131245 1.97417297 1.59547435 1.44097674 1.77346576]]]\n"
     ]
    }
   ],
   "source": [
    "# your code/answer here\n",
    "\"\"\"\n",
    "It works because i've trasnposed the array into a new one with the shape of a. Otherwise, you are not able \n",
    "to sum them all.\n",
    "\"\"\"\n",
    "print(a.shape)\n",
    "print(c.shape)\n",
    "d = a+c\n",
    "print(d)"
   ]
  },
  {
   "cell_type": "markdown",
   "metadata": {},
   "source": [
    "#### 11. Print *a* and *d*. Notice the difference and relation of the two array in terms of the values? Explain."
   ]
  },
  {
   "cell_type": "code",
   "execution_count": 13,
   "metadata": {},
   "outputs": [
    {
     "name": "stdout",
     "output_type": "stream",
     "text": [
      "[[[0.96446324 0.19836034 0.87924349 0.85809597 0.87618198]\n",
      "  [0.40271629 0.16987447 0.24852037 0.26929028 0.78318367]\n",
      "  [0.07205774 0.5480108  0.03991835 0.40859816 0.53261905]]\n",
      "\n",
      " [[0.64174815 0.4187394  0.04499273 0.2560781  0.9598201 ]\n",
      "  [0.45465946 0.55219183 0.71096617 0.24364299 0.7188212 ]\n",
      "  [0.43131245 0.97417297 0.59547435 0.44097674 0.77346576]]]\n",
      "[[[1.96446324 1.19836034 1.87924349 1.85809597 1.87618198]\n",
      "  [1.40271629 1.16987447 1.24852037 1.26929028 1.78318367]\n",
      "  [1.07205774 1.5480108  1.03991835 1.40859816 1.53261905]]\n",
      "\n",
      " [[1.64174815 1.4187394  1.04499273 1.2560781  1.9598201 ]\n",
      "  [1.45465946 1.55219183 1.71096617 1.24364299 1.7188212 ]\n",
      "  [1.43131245 1.97417297 1.59547435 1.44097674 1.77346576]]]\n"
     ]
    },
    {
     "data": {
      "text/plain": [
       "'\\nValues are proportional. Because D is the result of sum A and C\\n'"
      ]
     },
     "execution_count": 13,
     "metadata": {},
     "output_type": "execute_result"
    }
   ],
   "source": [
    "# your code/answer here\n",
    "print(a)\n",
    "print(d)\n",
    "\"\"\"\n",
    "Values are proportional. Because D is the result of sum A and C. D is one unit greater than A\n",
    "\"\"\"\n"
   ]
  },
  {
   "cell_type": "markdown",
   "metadata": {},
   "source": [
    "#### 12. Multiply *a* and *c*. Assign the result to *e*."
   ]
  },
  {
   "cell_type": "code",
   "execution_count": 14,
   "metadata": {},
   "outputs": [
    {
     "name": "stdout",
     "output_type": "stream",
     "text": [
      "[[[0.96446324 0.19836034 0.87924349 0.85809597 0.87618198]\n",
      "  [0.40271629 0.16987447 0.24852037 0.26929028 0.78318367]\n",
      "  [0.07205774 0.5480108  0.03991835 0.40859816 0.53261905]]\n",
      "\n",
      " [[0.64174815 0.4187394  0.04499273 0.2560781  0.9598201 ]\n",
      "  [0.45465946 0.55219183 0.71096617 0.24364299 0.7188212 ]\n",
      "  [0.43131245 0.97417297 0.59547435 0.44097674 0.77346576]]]\n"
     ]
    }
   ],
   "source": [
    "# your code here\n",
    "e = a*c\n",
    "print(e)"
   ]
  },
  {
   "cell_type": "markdown",
   "metadata": {},
   "source": [
    "#### 13. Does *e* equal to *a*? Why or why not?\n"
   ]
  },
  {
   "cell_type": "code",
   "execution_count": 29,
   "metadata": {},
   "outputs": [
    {
     "name": "stdout",
     "output_type": "stream",
     "text": [
      "[[[ True  True  True  True  True]\n",
      "  [ True  True  True  True  True]\n",
      "  [ True  True  True  True  True]]\n",
      "\n",
      " [[ True  True  True  True  True]\n",
      "  [ True  True  True  True  True]\n",
      "  [ True  True  True  True  True]]]\n"
     ]
    },
    {
     "data": {
      "text/plain": [
       "True"
      ]
     },
     "execution_count": 29,
     "metadata": {},
     "output_type": "execute_result"
    }
   ],
   "source": [
    "# your code/answer here\n",
    "#they are equal because they have same value on same positions\n",
    "\n",
    "print(e==a)\n",
    "comparing = e == a\n",
    "True if comparing.all() else False"
   ]
  },
  {
   "cell_type": "markdown",
   "metadata": {},
   "source": [
    "#### 14. Identify the max, min, and mean values in *d*. Assign those values to variables *d_max*, *d_min* and *d_mean*."
   ]
  },
  {
   "cell_type": "code",
   "execution_count": 16,
   "metadata": {},
   "outputs": [
    {
     "name": "stdout",
     "output_type": "stream",
     "text": [
      "Max Value of d is: 1.974172972342891.\n",
      "Min Value of d is : 1.0399183501688207.\n",
      "Mean of d is: 1.5156065543809372\n"
     ]
    }
   ],
   "source": [
    "# your code here\n",
    "d_max = np.max(d)\n",
    "d_min = np.min(d)\n",
    "d_mean = np.mean(d)\n",
    "print(f'Max Value of d is: {d_max}.\\nMin Value of d is : {d_min}.\\nMean of d is: {d_mean}')"
   ]
  },
  {
   "cell_type": "markdown",
   "metadata": {},
   "source": [
    "#### 15. Now we want to label the values in *d*. First create an empty array *f* with the same shape (i.e. 2x3x5) as *d* using `np.empty`.\n"
   ]
  },
  {
   "cell_type": "code",
   "execution_count": 22,
   "metadata": {},
   "outputs": [
    {
     "name": "stdout",
     "output_type": "stream",
     "text": [
      "[[[ 75.  25.  75.  75.  75.]\n",
      "  [ 25.  25.  25.  25.  75.]\n",
      "  [ 25.  75.   0.  25.  75.]]\n",
      "\n",
      " [[ 75.  25.  25.  25.  75.]\n",
      "  [ 25.  75.  75.  25.  75.]\n",
      "  [ 25. 100.  75.  25.  75.]]]\n"
     ]
    }
   ],
   "source": [
    "# your code here\n",
    "f= np.empty([2,3,5])\n",
    "print(f)"
   ]
  },
  {
   "cell_type": "markdown",
   "metadata": {},
   "source": [
    "#### 16. Populate the values in *f*. \n",
    "\n",
    "For each value in *d*, if it's larger than *d_min* but smaller than *d_mean*, assign 25 to the corresponding value in *f*. If a value in *d* is larger than *d_mean* but smaller than *d_max*, assign 75 to the corresponding value in *f*. If a value equals to *d_mean*, assign 50 to the corresponding value in *f*. Assign 0 to the corresponding value(s) in *f* for *d_min* in *d*. Assign 100 to the corresponding value(s) in *f* for *d_max* in *d*. In the end, f should have only the following values: 0, 25, 50, 75, and 100.\n",
    "\n",
    "**Note**: you don't have to use Numpy in this question."
   ]
  },
  {
   "cell_type": "code",
   "execution_count": 18,
   "metadata": {},
   "outputs": [
    {
     "name": "stdout",
     "output_type": "stream",
     "text": [
      "[[[ 75.  25.  75.  75.  75.]\n",
      "  [ 25.  25.  25.  25.  75.]\n",
      "  [ 25.  75.   0.  25.  75.]]\n",
      "\n",
      " [[ 75.  25.  25.  25.  75.]\n",
      "  [ 25.  75.  75.  25.  75.]\n",
      "  [ 25. 100.  75.  25.  75.]]]\n"
     ]
    }
   ],
   "source": [
    "# your code here\n",
    "#set the conditions\n",
    "filter_0 = d == d_min\n",
    "filter_25 = (d_min < d) & (d< d_mean)\n",
    "filter_50 = d == d_mean\n",
    "filter_75 = (d_mean<d)&(d<d_max)\n",
    "filter_100 = d == d_max\n",
    "\n",
    "#use de filter and asign to \n",
    "f[filter_0]=0\n",
    "f[filter_25]=25\n",
    "f[filter_50]=50\n",
    "f[filter_75]=75\n",
    "f[filter_100]=100\n",
    "\n",
    "print(f)"
   ]
  },
  {
   "cell_type": "markdown",
   "metadata": {},
   "source": [
    "#### 17. Print *d* and *f*. Do you have your expected *f*?\n",
    "For instance, if your *d* is:\n",
    "```python\n",
    "[[[1.85836099, 1.67064465, 1.62576044, 1.40243961, 1.88454931],\n",
    "[1.75354326, 1.69403643, 1.36729252, 1.61415071, 1.12104981],\n",
    "[1.72201435, 1.1862918 , 1.87078449, 1.7726778 , 1.88180042]],\n",
    "[[1.44747908, 1.31673383, 1.02000951, 1.52218947, 1.97066381],\n",
    "[1.79129243, 1.74983003, 1.96028037, 1.85166831, 1.65450881],\n",
    "[1.18068344, 1.9587381 , 1.00656599, 1.93402165, 1.73514584]]]\n",
    "```\n",
    "Your *f* should be:\n",
    "```python\n",
    "[[[ 75.,  75.,  75.,  25.,  75.],\n",
    "[ 75.,  75.,  25.,  25.,  25.],\n",
    "[ 75.,  25.,  75.,  75.,  75.]],\n",
    "[[ 25.,  25.,  25.,  25., 100.],\n",
    "[ 75.,  75.,  75.,  75.,  75.],\n",
    "[ 25.,  75.,   0.,  75.,  75.]]]\n",
    "```"
   ]
  },
  {
   "cell_type": "code",
   "execution_count": 19,
   "metadata": {},
   "outputs": [
    {
     "name": "stdout",
     "output_type": "stream",
     "text": [
      "[[[1.96446324 1.19836034 1.87924349 1.85809597 1.87618198]\n",
      "  [1.40271629 1.16987447 1.24852037 1.26929028 1.78318367]\n",
      "  [1.07205774 1.5480108  1.03991835 1.40859816 1.53261905]]\n",
      "\n",
      " [[1.64174815 1.4187394  1.04499273 1.2560781  1.9598201 ]\n",
      "  [1.45465946 1.55219183 1.71096617 1.24364299 1.7188212 ]\n",
      "  [1.43131245 1.97417297 1.59547435 1.44097674 1.77346576]]]\n",
      "\n",
      "\n",
      "[[[ 75.  25.  75.  75.  75.]\n",
      "  [ 25.  25.  25.  25.  75.]\n",
      "  [ 25.  75.   0.  25.  75.]]\n",
      "\n",
      " [[ 75.  25.  25.  25.  75.]\n",
      "  [ 25.  75.  75.  25.  75.]\n",
      "  [ 25. 100.  75.  25.  75.]]]\n"
     ]
    }
   ],
   "source": [
    "# your code here\n",
    "print(d)\n",
    "print(\"\\n\")\n",
    "print(f)"
   ]
  },
  {
   "cell_type": "markdown",
   "metadata": {},
   "source": [
    "#### 18. Bonus question: instead of using numbers (i.e. 0, 25, 50, 75, and 100), use string values  (\"A\", \"B\", \"C\", \"D\", and \"E\") to label the array elements. For the example above, the expected result is:\n",
    "\n",
    "```python\n",
    "[[[ 'D',  'D',  'D',  'B',  'D'],\n",
    "[ 'D',  'D',  'B',  'B',  'B'],\n",
    "[ 'D',  'B',  'D',  'D',  'D']],\n",
    "[[ 'B',  'B',  'B',  'B',  'E'],\n",
    "[ 'D',  'D',  'D',  'D',  'D'],\n",
    "[ 'B',  'D',   'A',  'D', 'D']]]\n",
    "```\n",
    "**Note**: you don't have to use Numpy in this question."
   ]
  },
  {
   "cell_type": "code",
   "execution_count": 28,
   "metadata": {},
   "outputs": [
    {
     "name": "stdout",
     "output_type": "stream",
     "text": [
      "[[['D' 'B' 'D' 'D' 'D']\n",
      "  ['B' 'B' 'B' 'B' 'D']\n",
      "  ['B' 'D' 'A' 'B' 'D']]\n",
      "\n",
      " [['D' 'B' 'B' 'B' 'D']\n",
      "  ['B' 'D' 'D' 'B' 'D']\n",
      "  ['B' 'E' 'D' 'B' 'D']]]\n"
     ]
    }
   ],
   "source": [
    "#your code\n",
    "\n",
    "#empty array\n",
    "g= np.empty((2,3,5),dtype=str)\n",
    "#set the conditions\n",
    "filter_0 = d == d_min\n",
    "filter_25 = (d_min < d) & (d< d_mean)\n",
    "filter_50 = d == d_mean\n",
    "filter_75 = (d_mean<d)&(d<d_max)\n",
    "filter_100 = d == d_max\n",
    "\n",
    "#use de filter and asign to \n",
    "g[filter_0]='A'\n",
    "g[filter_25]='B'\n",
    "g[filter_50]='C'\n",
    "g[filter_75]='D'\n",
    "g[filter_100]='E'\n",
    "\n",
    "print(g)\n"
   ]
  }
 ],
 "metadata": {
  "kernelspec": {
   "display_name": "Python [conda env:ironhack_env]",
   "language": "python",
   "name": "conda-env-ironhack_env-py"
  },
  "language_info": {
   "codemirror_mode": {
    "name": "ipython",
    "version": 3
   },
   "file_extension": ".py",
   "mimetype": "text/x-python",
   "name": "python",
   "nbconvert_exporter": "python",
   "pygments_lexer": "ipython3",
   "version": "3.7.7"
  }
 },
 "nbformat": 4,
 "nbformat_minor": 2
}
