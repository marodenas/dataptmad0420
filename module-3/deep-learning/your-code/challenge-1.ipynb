{
 "cells": [
  {
   "cell_type": "markdown",
   "metadata": {},
   "source": [
    "# Challenge 1 - Tic Tac Toe\n",
    "\n",
    "In this lab you will perform deep learning analysis on a dataset of playing [Tic Tac Toe](https://en.wikipedia.org/wiki/Tic-tac-toe).\n",
    "\n",
    "There are 9 grids in Tic Tac Toe that are coded as the following picture shows:\n",
    "\n",
    "![Tic Tac Toe Grids](tttboard.jpg)\n",
    "\n",
    "In the first 9 columns of the dataset you can find which marks (`x` or `o`) exist in the grids. If there is no mark in a certain grid, it is labeled as `b`. The last column is `class` which tells you whether Player X (who always moves first in Tic Tac Toe) wins in this configuration. Note that when `class` has the value `False`, it means either Player O wins the game or it ends up as a draw."
   ]
  },
  {
   "cell_type": "markdown",
   "metadata": {},
   "source": [
    "Follow the steps suggested below to conduct a neural network analysis using Tensorflow and Keras. You will build a deep learning model to predict whether Player X wins the game or not.\n",
    "\n",
    "## Step 1: Data Engineering\n",
    "\n",
    "This dataset is almost in the ready-to-use state so you do not need to worry about missing values and so on. Still, some simple data engineering is needed.\n",
    "\n",
    "1. Read `tic-tac-toe.csv` into a dataframe.\n",
    "1. Inspect the dataset. Determine if the dataset is reliable by eyeballing the data.\n",
    "1. Convert the categorical values to numeric in all columns.\n",
    "1. Separate the inputs and output.\n",
    "1. Normalize the input data."
   ]
  },
  {
   "cell_type": "code",
   "execution_count": 1,
   "metadata": {},
   "outputs": [],
   "source": [
    "import pandas as pd\n",
    "import numpy as np\n",
    "import tensorflow as tf\n",
    "from keras.models import Sequential\n",
    "from keras.layers import Dense\n",
    "from keras.utils import to_categorical\n",
    "from sklearn.model_selection import train_test_split"
   ]
  },
  {
   "cell_type": "code",
   "execution_count": 2,
   "metadata": {},
   "outputs": [
    {
     "name": "stdout",
     "output_type": "stream",
     "text": [
      "<class 'pandas.core.frame.DataFrame'>\n",
      "RangeIndex: 958 entries, 0 to 957\n",
      "Data columns (total 10 columns):\n",
      " #   Column  Non-Null Count  Dtype \n",
      "---  ------  --------------  ----- \n",
      " 0   TL      958 non-null    object\n",
      " 1   TM      958 non-null    object\n",
      " 2   TR      958 non-null    object\n",
      " 3   ML      958 non-null    object\n",
      " 4   MM      958 non-null    object\n",
      " 5   MR      958 non-null    object\n",
      " 6   BL      958 non-null    object\n",
      " 7   BM      958 non-null    object\n",
      " 8   BR      958 non-null    object\n",
      " 9   class   958 non-null    bool  \n",
      "dtypes: bool(1), object(9)\n",
      "memory usage: 68.4+ KB\n"
     ]
    }
   ],
   "source": [
    "#reading the dataset\n",
    "\n",
    "ttt = pd.read_csv(\"tic-tac-toe.csv\")\n",
    "ttt.info()"
   ]
  },
  {
   "cell_type": "code",
   "execution_count": 3,
   "metadata": {},
   "outputs": [],
   "source": [
    "# indicator_columns\n",
    "indicator_column_names =['TL','TM','TR','ML','MM','MR','BL','BM','BR']"
   ]
  },
  {
   "cell_type": "code",
   "execution_count": 4,
   "metadata": {},
   "outputs": [],
   "source": [
    "X = pd.get_dummies(ttt[indicator_column_names])\n",
    "y = ttt['class']"
   ]
  },
  {
   "cell_type": "markdown",
   "metadata": {},
   "source": [
    "## Step 2: Build Neural Network\n",
    "\n",
    "To build the neural network, you can refer to your own codes you wrote while following the [Deep Learning with Python, TensorFlow, and Keras tutorial](https://www.youtube.com/watch?v=wQ8BIBpya2k) in the lesson. It's pretty similar to what you will be doing in this lab.\n",
    "\n",
    "1. Split the training and test data.\n",
    "1. Create a `Sequential` model.\n",
    "1. Add several layers to your model. Make sure you use ReLU as the activation function for the middle layers. Use Softmax for the output layer because each output has a single lable and all the label probabilities add up to 1.\n",
    "1. Compile the model using `adam` as the optimizer and `sparse_categorical_crossentropy` as the loss function. For metrics, use `accuracy` for now.\n",
    "1. Fit the training data.\n",
    "1. Evaluate your neural network model with the test data.\n",
    "1. Save your model as `tic-tac-toe.model`."
   ]
  },
  {
   "cell_type": "code",
   "execution_count": 5,
   "metadata": {},
   "outputs": [],
   "source": [
    "# your code here\n",
    "X_train, X_test, y_train, y_test = train_test_split(X, y, test_size = 0.2, random_state=29)\n"
   ]
  },
  {
   "cell_type": "code",
   "execution_count": 29,
   "metadata": {},
   "outputs": [
    {
     "name": "stdout",
     "output_type": "stream",
     "text": [
      "Epoch 1/15\n",
      "24/24 [==============================] - 0s 9ms/step - loss: 0.6067 - accuracy: 0.6658\n",
      "Epoch 2/15\n",
      "24/24 [==============================] - 0s 8ms/step - loss: 0.4974 - accuracy: 0.7676\n",
      "Epoch 3/15\n",
      "24/24 [==============================] - 0s 12ms/step - loss: 0.3610 - accuracy: 0.8446\n",
      "Epoch 4/15\n",
      "24/24 [==============================] - 0s 14ms/step - loss: 0.1873 - accuracy: 0.9413\n",
      "Epoch 5/15\n",
      "24/24 [==============================] - 0s 10ms/step - loss: 0.0631 - accuracy: 0.9843\n",
      "Epoch 6/15\n",
      "24/24 [==============================] - 0s 17ms/step - loss: 0.0335 - accuracy: 0.9935\n",
      "Epoch 7/15\n",
      "24/24 [==============================] - 0s 18ms/step - loss: 0.0145 - accuracy: 0.9974\n",
      "Epoch 8/15\n",
      "24/24 [==============================] - 0s 19ms/step - loss: 0.0162 - accuracy: 0.9961\n",
      "Epoch 9/15\n",
      "24/24 [==============================] - 0s 20ms/step - loss: 0.0042 - accuracy: 1.0000\n",
      "Epoch 10/15\n",
      "24/24 [==============================] - 1s 21ms/step - loss: 0.0022 - accuracy: 1.0000\n",
      "Epoch 11/15\n",
      "24/24 [==============================] - 0s 11ms/step - loss: 0.0015 - accuracy: 1.0000\n",
      "Epoch 12/15\n",
      "24/24 [==============================] - 0s 15ms/step - loss: 0.0013 - accuracy: 1.0000\n",
      "Epoch 13/15\n",
      "24/24 [==============================] - 0s 14ms/step - loss: 9.2664e-04 - accuracy: 1.0000\n",
      "Epoch 14/15\n",
      "24/24 [==============================] - 0s 18ms/step - loss: 7.3860e-04 - accuracy: 1.0000\n",
      "Epoch 15/15\n",
      "24/24 [==============================] - 0s 17ms/step - loss: 6.3938e-04 - accuracy: 1.0000\n",
      "6/6 [==============================] - 0s 14ms/step - loss: 0.0342 - accuracy: 0.9896\n"
     ]
    },
    {
     "data": {
      "text/plain": [
       "[0.034248050302267075, 0.9895833134651184]"
      ]
     },
     "execution_count": 29,
     "metadata": {},
     "output_type": "execute_result"
    }
   ],
   "source": [
    "# Create the model\n",
    "model = tf.keras.models.Sequential()\n",
    "model.add(tf.keras.layers.Flatten())\n",
    "model.add(tf.keras.layers.Dense(256, activation=tf.nn.relu))\n",
    "model.add(tf.keras.layers.Dense(128, activation=tf.nn.relu))\n",
    "model.add(tf.keras.layers.Dense(64, activation=tf.nn.relu))\n",
    "model.add(tf.keras.layers.Dense(32, activation=tf.nn.relu))\n",
    "model.add(tf.keras.layers.Dense(2, activation=tf.nn.softmax))\n",
    "\n",
    "# Compile the model.\n",
    "model.compile(optimizer='adam',\n",
    "              loss='sparse_categorical_crossentropy',\n",
    "              metrics=['accuracy'])\n",
    "\n",
    "# Train the model.\n",
    "history = model.fit(\n",
    "  X_train,\n",
    "  y_train,\n",
    "  epochs=15,\n",
    "\n",
    ")\n",
    "\n",
    "# Evaluate the model.\n",
    "model.evaluate(\n",
    "  X_test,\n",
    "  y_test\n",
    ")"
   ]
  },
  {
   "cell_type": "markdown",
   "metadata": {},
   "source": [
    "## Step 3: Make Predictions\n",
    "\n",
    "Now load your saved model and use it to make predictions on a few random rows in the test dataset. Check if the predictions are correct."
   ]
  },
  {
   "cell_type": "code",
   "execution_count": 33,
   "metadata": {},
   "outputs": [
    {
     "name": "stdout",
     "output_type": "stream",
     "text": [
      "[1 1 1 0 1 1 1 1 1]\n",
      "176     True\n",
      "75      True\n",
      "107     True\n",
      "794    False\n",
      "610     True\n",
      "317     True\n",
      "195     True\n",
      "142     True\n",
      "191     True\n",
      "Name: class, dtype: bool\n"
     ]
    }
   ],
   "source": [
    "\n",
    "# Save the model to disk.\n",
    "model.save_weights('model_dl.h5')\n",
    "\n",
    "# Load the model from disk later using:\n",
    "model.load_weights('model_dl.h5')\n",
    "\n",
    "# Predict on the 10 test images.\n",
    "predictions = model.predict(X_test[100:109])\n",
    "\n",
    "# Print our model's predictions.\n",
    "print(np.argmax(predictions, axis=1)) # \n",
    "\n",
    "# Check our predictions against the ground truths.\n",
    "print(y_test[100:109]) \n",
    "\n"
   ]
  },
  {
   "cell_type": "markdown",
   "metadata": {},
   "source": [
    "## Step 4: Improve Your Model\n",
    "\n",
    "Did your model achieve low loss (<0.1) and high accuracy (>0.95)? If not, try to improve your model.\n",
    "\n",
    "But how? There are so many things you can play with in Tensorflow and in the next challenge you'll learn about these things. But in this challenge, let's just do a few things to see if they will help.\n",
    "\n",
    "* Add more layers to your model. If the data are complex you need more layers. But don't use more layers than you need. If adding more layers does not improve the model performance you don't need additional layers.\n",
    "* Adjust the learning rate when you compile the model. This means you will create a custom `tf.keras.optimizers.Adam` instance where you specify the learning rate you want. Then pass the instance to `model.compile` as the optimizer.\n",
    "    * `tf.keras.optimizers.Adam` [reference](https://www.tensorflow.org/api_docs/python/tf/keras/optimizers/Adam).\n",
    "    * Don't worry if you don't understand what the learning rate does. You'll learn about it in the next challenge.\n",
    "* Adjust the number of epochs when you fit the training data to the model. Your model performance continues to improve as you train more epochs. But eventually it will reach the ceiling and the performance will stay the same."
   ]
  },
  {
   "cell_type": "code",
   "execution_count": 31,
   "metadata": {},
   "outputs": [],
   "source": [
    "# your code here\n",
    "import matplotlib.pyplot as plt\n",
    "def plot_training(history, metrics: list = ('loss',), figsize: tuple = (12, 5)):\n",
    "    \"\"\"\n",
    "    plots training selected metrics for every batch\n",
    "    \"\"\"\n",
    "    epochs = range(1, len(history.history[metrics[0]]) + 1)\n",
    "\n",
    "    fig, ax_arr = plt.subplots(1, len(metrics), figsize=figsize)\n",
    "\n",
    "    if not isinstance(ax_arr, np.ndarray):\n",
    "        ax_arr = np.array(ax_arr).reshape(1, )\n",
    "\n",
    "    for i, metric in enumerate(metrics):\n",
    "        ax_arr[i].plot(epochs, history.history[metric], color='k', linestyle='solid', label=metric, linewidth=2)\n",
    "        ax_arr[i].plot(epochs, history.history[f\"{metric}\"], color='r', linestyle='dotted',\n",
    "                       label=f'validation {metric}')\n",
    "        ax_arr[i].set_ylabel(metric)\n",
    "        ax_arr[i].set_xlabel('epochs')\n",
    "        ax_arr[i].grid()\n",
    "        ax_arr[i].legend()\n",
    "    plt.show()"
   ]
  },
  {
   "cell_type": "code",
   "execution_count": 32,
   "metadata": {},
   "outputs": [
    {
     "data": {
      "image/png": "[encoded data removed]",
      "text/plain": [
       "<Figure size 864x360 with 2 Axes>"
      ]
     },
     "metadata": {
      "needs_background": "light"
     },
     "output_type": "display_data"
    }
   ],
   "source": [
    "plot_training(history, metrics=['loss', 'accuracy'])"
   ]
  },
  {
   "cell_type": "markdown",
   "metadata": {},
   "source": [
    "**Which approach(es) did you find helpful to improve your model performance?**"
   ]
  },
  {
   "cell_type": "markdown",
   "metadata": {},
   "source": [
    "# your answer here\n",
    "improve Dense units parameters and reduce epoch when the model is close to 1"
   ]
  },
  {
   "cell_type": "code",
   "execution_count": null,
   "metadata": {},
   "outputs": [],
   "source": []
  }
 ],
 "metadata": {
  "kernelspec": {
   "display_name": "Python [conda env:test_ml]",
   "language": "python",
   "name": "conda-env-test_ml-py"
  },
  "language_info": {
   "codemirror_mode": {
    "name": "ipython",
    "version": 3
   },
   "file_extension": ".py",
   "mimetype": "text/x-python",
   "name": "python",
   "nbconvert_exporter": "python",
   "pygments_lexer": "ipython3",
   "version": "3.7.9"
  }
 },
 "nbformat": 4,
 "nbformat_minor": 4
}
